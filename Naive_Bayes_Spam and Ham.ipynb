{
 "cells": [
  {
   "cell_type": "code",
   "execution_count": 99,
   "id": "033920e1",
   "metadata": {},
   "outputs": [],
   "source": [
    "import os\n",
    "import numpy as np\n",
    "import pandas as pd\n",
    "import sklearn\n",
    "from sklearn.feature_extraction.text import CountVectorizer\n",
    "from sklearn.naive_bayes import MultinomialNB\n",
    "from sklearn.naive_bayes import BernoulliNB\n",
    "from sklearn.model_selection import train_test_split\n",
    "from sklearn.metrics import accuracy_score\n",
    "from sklearn.metrics import confusion_matrix\n",
    "from sklearn import metrics\n",
    "import matplotlib.pyplot as plt"
   ]
  },
  {
   "cell_type": "markdown",
   "id": "a788d4cf",
   "metadata": {},
   "source": [
    "# Importing data and data preprocessing"
   ]
  },
  {
   "cell_type": "code",
   "execution_count": 66,
   "id": "4680a3bf",
   "metadata": {},
   "outputs": [],
   "source": [
    "df = pd.read_table(\"C:/Users/sinha/Downloads/SMSSpamCollection\", names = [\"class\", \"document\"])"
   ]
  },
  {
   "cell_type": "code",
   "execution_count": 67,
   "id": "34eb0869",
   "metadata": {},
   "outputs": [
    {
     "data": {
      "text/html": [
       "<div>\n",
       "<style scoped>\n",
       "    .dataframe tbody tr th:only-of-type {\n",
       "        vertical-align: middle;\n",
       "    }\n",
       "\n",
       "    .dataframe tbody tr th {\n",
       "        vertical-align: top;\n",
       "    }\n",
       "\n",
       "    .dataframe thead th {\n",
       "        text-align: right;\n",
       "    }\n",
       "</style>\n",
       "<table border=\"1\" class=\"dataframe\">\n",
       "  <thead>\n",
       "    <tr style=\"text-align: right;\">\n",
       "      <th></th>\n",
       "      <th>class</th>\n",
       "      <th>document</th>\n",
       "    </tr>\n",
       "  </thead>\n",
       "  <tbody>\n",
       "    <tr>\n",
       "      <th>0</th>\n",
       "      <td>ham</td>\n",
       "      <td>Go until jurong point, crazy.. Available only ...</td>\n",
       "    </tr>\n",
       "    <tr>\n",
       "      <th>1</th>\n",
       "      <td>ham</td>\n",
       "      <td>Ok lar... Joking wif u oni...</td>\n",
       "    </tr>\n",
       "    <tr>\n",
       "      <th>2</th>\n",
       "      <td>spam</td>\n",
       "      <td>Free entry in 2 a wkly comp to win FA Cup fina...</td>\n",
       "    </tr>\n",
       "    <tr>\n",
       "      <th>3</th>\n",
       "      <td>ham</td>\n",
       "      <td>U dun say so early hor... U c already then say...</td>\n",
       "    </tr>\n",
       "    <tr>\n",
       "      <th>4</th>\n",
       "      <td>ham</td>\n",
       "      <td>Nah I don't think he goes to usf, he lives aro...</td>\n",
       "    </tr>\n",
       "  </tbody>\n",
       "</table>\n",
       "</div>"
      ],
      "text/plain": [
       "  class                                           document\n",
       "0   ham  Go until jurong point, crazy.. Available only ...\n",
       "1   ham                      Ok lar... Joking wif u oni...\n",
       "2  spam  Free entry in 2 a wkly comp to win FA Cup fina...\n",
       "3   ham  U dun say so early hor... U c already then say...\n",
       "4   ham  Nah I don't think he goes to usf, he lives aro..."
      ]
     },
     "execution_count": 67,
     "metadata": {},
     "output_type": "execute_result"
    }
   ],
   "source": [
    "df.head()"
   ]
  },
  {
   "cell_type": "code",
   "execution_count": 68,
   "id": "a50ebcfa",
   "metadata": {},
   "outputs": [
    {
     "data": {
      "text/plain": [
       "ham     4825\n",
       "spam     747\n",
       "Name: class, dtype: int64"
      ]
     },
     "execution_count": 68,
     "metadata": {},
     "output_type": "execute_result"
    }
   ],
   "source": [
    "df[\"class\"].value_counts()"
   ]
  },
  {
   "cell_type": "code",
   "execution_count": 69,
   "id": "d11e559b",
   "metadata": {},
   "outputs": [],
   "source": [
    "# Encoding 1 and 0 to class ham and spam\n",
    "df[\"class\"] = df[\"class\"].map({\"ham\": 0, \"spam\":1})"
   ]
  },
  {
   "cell_type": "code",
   "execution_count": 70,
   "id": "fef19ea7",
   "metadata": {},
   "outputs": [
    {
     "data": {
      "text/html": [
       "<div>\n",
       "<style scoped>\n",
       "    .dataframe tbody tr th:only-of-type {\n",
       "        vertical-align: middle;\n",
       "    }\n",
       "\n",
       "    .dataframe tbody tr th {\n",
       "        vertical-align: top;\n",
       "    }\n",
       "\n",
       "    .dataframe thead th {\n",
       "        text-align: right;\n",
       "    }\n",
       "</style>\n",
       "<table border=\"1\" class=\"dataframe\">\n",
       "  <thead>\n",
       "    <tr style=\"text-align: right;\">\n",
       "      <th></th>\n",
       "      <th>class</th>\n",
       "      <th>document</th>\n",
       "    </tr>\n",
       "  </thead>\n",
       "  <tbody>\n",
       "    <tr>\n",
       "      <th>0</th>\n",
       "      <td>0</td>\n",
       "      <td>Go until jurong point, crazy.. Available only ...</td>\n",
       "    </tr>\n",
       "    <tr>\n",
       "      <th>1</th>\n",
       "      <td>0</td>\n",
       "      <td>Ok lar... Joking wif u oni...</td>\n",
       "    </tr>\n",
       "    <tr>\n",
       "      <th>2</th>\n",
       "      <td>1</td>\n",
       "      <td>Free entry in 2 a wkly comp to win FA Cup fina...</td>\n",
       "    </tr>\n",
       "    <tr>\n",
       "      <th>3</th>\n",
       "      <td>0</td>\n",
       "      <td>U dun say so early hor... U c already then say...</td>\n",
       "    </tr>\n",
       "    <tr>\n",
       "      <th>4</th>\n",
       "      <td>0</td>\n",
       "      <td>Nah I don't think he goes to usf, he lives aro...</td>\n",
       "    </tr>\n",
       "  </tbody>\n",
       "</table>\n",
       "</div>"
      ],
      "text/plain": [
       "   class                                           document\n",
       "0      0  Go until jurong point, crazy.. Available only ...\n",
       "1      0                      Ok lar... Joking wif u oni...\n",
       "2      1  Free entry in 2 a wkly comp to win FA Cup fina...\n",
       "3      0  U dun say so early hor... U c already then say...\n",
       "4      0  Nah I don't think he goes to usf, he lives aro..."
      ]
     },
     "execution_count": 70,
     "metadata": {},
     "output_type": "execute_result"
    }
   ],
   "source": [
    "df.head()"
   ]
  },
  {
   "cell_type": "markdown",
   "id": "eee7d7d2",
   "metadata": {},
   "source": [
    "### Splitting into test train split"
   ]
  },
  {
   "cell_type": "code",
   "execution_count": 71,
   "id": "6fa8449a",
   "metadata": {
    "scrolled": true
   },
   "outputs": [],
   "source": [
    "X_train, X_test,  y_train, y_test = train_test_split(df.document, df[\"class\"], random_state=100)"
   ]
  },
  {
   "cell_type": "code",
   "execution_count": 72,
   "id": "40657c76",
   "metadata": {},
   "outputs": [],
   "source": [
    "# creating bag of words for the document\n",
    "# using Countvectorize"
   ]
  },
  {
   "cell_type": "code",
   "execution_count": 73,
   "id": "e30dcfa3",
   "metadata": {},
   "outputs": [],
   "source": [
    "vec = CountVectorizer(stop_words=\"english\")\n",
    "\n",
    "vec_train = vec.fit_transform(X_train)"
   ]
  },
  {
   "cell_type": "code",
   "execution_count": 74,
   "id": "6e496190",
   "metadata": {},
   "outputs": [],
   "source": [
    "X_train_transformed = vec_train\n",
    "X_test_transformed = vec.transform(X_test)"
   ]
  },
  {
   "cell_type": "markdown",
   "id": "54ab177e",
   "metadata": {},
   "source": [
    "## Building and Evaluating the model"
   ]
  },
  {
   "cell_type": "code",
   "execution_count": 77,
   "id": "1ce805df",
   "metadata": {},
   "outputs": [
    {
     "data": {
      "text/plain": [
       "array([0, 0, 1, ..., 0, 1, 0], dtype=int64)"
      ]
     },
     "execution_count": 77,
     "metadata": {},
     "output_type": "execute_result"
    }
   ],
   "source": [
    "# creting multinimial object for building\n",
    "mnb = MultinomialNB()\n",
    "\n",
    "# fitting the X_train \n",
    "mnb.fit(X_train_transformed, y_train)\n",
    "\n",
    "# predicting on test\n",
    "y_test_pred = mnb.predict_proba(X_test_transformed)\n",
    "\n",
    "# predict class\n",
    "y_test_pred_class = mnb.predict(X_test_transformed)\n",
    "\n",
    "y_test_pred_class"
   ]
  },
  {
   "cell_type": "markdown",
   "id": "f4e3880d",
   "metadata": {},
   "source": [
    "## Model Evaluation"
   ]
  },
  {
   "cell_type": "code",
   "execution_count": 79,
   "id": "73e6f143",
   "metadata": {},
   "outputs": [
    {
     "data": {
      "text/plain": [
       "0.9849246231155779"
      ]
     },
     "execution_count": 79,
     "metadata": {},
     "output_type": "execute_result"
    }
   ],
   "source": [
    "# Accuracy\n",
    "accuracy_score(y_test, y_test_pred_class)"
   ]
  },
  {
   "cell_type": "code",
   "execution_count": 81,
   "id": "4633a63b",
   "metadata": {},
   "outputs": [],
   "source": [
    "# creating confusion matrix\n",
    "confusion = confusion_matrix(y_test, y_test_pred_class)"
   ]
  },
  {
   "cell_type": "code",
   "execution_count": 82,
   "id": "06c0cbd8",
   "metadata": {},
   "outputs": [],
   "source": [
    "TP = confusion[1,1]\n",
    "TN = confusion[0,0]\n",
    "FP = confusion[0,1]\n",
    "FN = confusion[1,0]"
   ]
  },
  {
   "cell_type": "code",
   "execution_count": 84,
   "id": "8384d484",
   "metadata": {},
   "outputs": [
    {
     "name": "stdout",
     "output_type": "stream",
     "text": [
      "sensitivity 0.9358288770053476\n"
     ]
    }
   ],
   "source": [
    "sensitivity = TP/float(TP+FN)\n",
    "print(\"sensitivity\", sensitivity)"
   ]
  },
  {
   "cell_type": "code",
   "execution_count": 85,
   "id": "794315a5",
   "metadata": {},
   "outputs": [
    {
     "name": "stdout",
     "output_type": "stream",
     "text": [
      "[[1197    9]\n",
      " [  12  175]]\n"
     ]
    }
   ],
   "source": [
    "print(confusion)"
   ]
  },
  {
   "cell_type": "code",
   "execution_count": 86,
   "id": "c6d87125",
   "metadata": {},
   "outputs": [
    {
     "name": "stdout",
     "output_type": "stream",
     "text": [
      "specificity 0.9925373134328358\n"
     ]
    }
   ],
   "source": [
    "specificity = TN/float(TN+FP)\n",
    "print(\"specificity\", specificity)"
   ]
  },
  {
   "cell_type": "code",
   "execution_count": 87,
   "id": "c2374a62",
   "metadata": {},
   "outputs": [
    {
     "name": "stdout",
     "output_type": "stream",
     "text": [
      "precision 0.9510869565217391\n"
     ]
    }
   ],
   "source": [
    "precision = TP/float(TP+FP)\n",
    "print(\"precision\", precision)"
   ]
  },
  {
   "cell_type": "code",
   "execution_count": 89,
   "id": "514fba15",
   "metadata": {},
   "outputs": [
    {
     "data": {
      "text/plain": [
       "0.9510869565217391"
      ]
     },
     "execution_count": 89,
     "metadata": {},
     "output_type": "execute_result"
    }
   ],
   "source": [
    "metrics.precision_score(y_test, y_test_pred_class)"
   ]
  },
  {
   "cell_type": "code",
   "execution_count": 91,
   "id": "a968651e",
   "metadata": {},
   "outputs": [
    {
     "data": {
      "text/plain": [
       "601     0\n",
       "3183    0\n",
       "1229    1\n",
       "1711    0\n",
       "1248    0\n",
       "Name: class, dtype: int64"
      ]
     },
     "execution_count": 91,
     "metadata": {},
     "output_type": "execute_result"
    }
   ],
   "source": [
    "y_test.head()"
   ]
  },
  {
   "cell_type": "code",
   "execution_count": 93,
   "id": "0cb5bfd1",
   "metadata": {},
   "outputs": [
    {
     "data": {
      "text/plain": [
       "array([[9.94376989e-01, 5.62301143e-03],\n",
       "       [9.99088733e-01, 9.11267326e-04],\n",
       "       [7.02246819e-14, 1.00000000e+00],\n",
       "       ...,\n",
       "       [9.99999054e-01, 9.45825103e-07],\n",
       "       [2.09655468e-11, 1.00000000e+00],\n",
       "       [9.99822333e-01, 1.77667277e-04]])"
      ]
     },
     "execution_count": 93,
     "metadata": {},
     "output_type": "execute_result"
    }
   ],
   "source": [
    "y_test_pred"
   ]
  },
  {
   "cell_type": "code",
   "execution_count": 94,
   "id": "7d15240f",
   "metadata": {},
   "outputs": [],
   "source": [
    "fpr, tpr , thresholds = metrics.roc_curve(y_test, y_test_pred[:,1])\n",
    "area_roc = metrics.auc(fpr,tpr)"
   ]
  },
  {
   "cell_type": "code",
   "execution_count": 95,
   "id": "05e38d4a",
   "metadata": {},
   "outputs": [],
   "source": [
    "df_roc = pd.DataFrame({\"FPR\":fpr, \"TPR\":tpr, \"thresholds\":thresholds})"
   ]
  },
  {
   "cell_type": "code",
   "execution_count": 97,
   "id": "4a3b6d0a",
   "metadata": {},
   "outputs": [
    {
     "data": {
      "text/html": [
       "<div>\n",
       "<style scoped>\n",
       "    .dataframe tbody tr th:only-of-type {\n",
       "        vertical-align: middle;\n",
       "    }\n",
       "\n",
       "    .dataframe tbody tr th {\n",
       "        vertical-align: top;\n",
       "    }\n",
       "\n",
       "    .dataframe thead th {\n",
       "        text-align: right;\n",
       "    }\n",
       "</style>\n",
       "<table border=\"1\" class=\"dataframe\">\n",
       "  <thead>\n",
       "    <tr style=\"text-align: right;\">\n",
       "      <th></th>\n",
       "      <th>FPR</th>\n",
       "      <th>TPR</th>\n",
       "      <th>thresholds</th>\n",
       "    </tr>\n",
       "  </thead>\n",
       "  <tbody>\n",
       "    <tr>\n",
       "      <th>0</th>\n",
       "      <td>0.0</td>\n",
       "      <td>0.000000</td>\n",
       "      <td>2.0</td>\n",
       "    </tr>\n",
       "    <tr>\n",
       "      <th>1</th>\n",
       "      <td>0.0</td>\n",
       "      <td>0.310160</td>\n",
       "      <td>1.0</td>\n",
       "    </tr>\n",
       "    <tr>\n",
       "      <th>2</th>\n",
       "      <td>0.0</td>\n",
       "      <td>0.320856</td>\n",
       "      <td>1.0</td>\n",
       "    </tr>\n",
       "    <tr>\n",
       "      <th>3</th>\n",
       "      <td>0.0</td>\n",
       "      <td>0.342246</td>\n",
       "      <td>1.0</td>\n",
       "    </tr>\n",
       "    <tr>\n",
       "      <th>4</th>\n",
       "      <td>0.0</td>\n",
       "      <td>0.347594</td>\n",
       "      <td>1.0</td>\n",
       "    </tr>\n",
       "  </tbody>\n",
       "</table>\n",
       "</div>"
      ],
      "text/plain": [
       "   FPR       TPR  thresholds\n",
       "0  0.0  0.000000         2.0\n",
       "1  0.0  0.310160         1.0\n",
       "2  0.0  0.320856         1.0\n",
       "3  0.0  0.342246         1.0\n",
       "4  0.0  0.347594         1.0"
      ]
     },
     "execution_count": 97,
     "metadata": {},
     "output_type": "execute_result"
    }
   ],
   "source": [
    "df_roc.head()"
   ]
  },
  {
   "cell_type": "code",
   "execution_count": 101,
   "id": "7f7c3847",
   "metadata": {},
   "outputs": [
    {
     "data": {
      "image/png": "[encoded data removed]",
      "text/plain": [
       "<Figure size 432x288 with 1 Axes>"
      ]
     },
     "metadata": {
      "needs_background": "light"
     },
     "output_type": "display_data"
    }
   ],
   "source": [
    "plt.plot(fpr, tpr, label=\"Area = %2f\" %area_roc)\n",
    "plt.xlabel(\"False positive rate\")\n",
    "plt.ylabel(\"True positive rate\")\n",
    "plt.title(\"ROC Curve\")\n",
    "plt.legend()\n",
    "plt.show()"
   ]
  },
  {
   "cell_type": "markdown",
   "id": "ccb6cbcc",
   "metadata": {},
   "source": [
    "# Building model through Bernoulli Classifier"
   ]
  },
  {
   "cell_type": "code",
   "execution_count": 103,
   "id": "08cb7bf5",
   "metadata": {},
   "outputs": [
    {
     "data": {
      "text/plain": [
       "array([0, 0, 1, ..., 0, 1, 0], dtype=int64)"
      ]
     },
     "execution_count": 103,
     "metadata": {},
     "output_type": "execute_result"
    }
   ],
   "source": [
    "# creting Bernoulli object for building\n",
    "bnb = BernoulliNB()\n",
    "\n",
    "# fitting the X_train \n",
    "bnb.fit(X_train_transformed, y_train)\n",
    "\n",
    "# predicting on test\n",
    "y_test_pred = mnb.predict_proba(X_test_transformed)\n",
    "\n",
    "# predict class\n",
    "y_test_pred_class = bnb.predict(X_test_transformed)\n",
    "\n",
    "y_test_pred_class"
   ]
  },
  {
   "cell_type": "code",
   "execution_count": 104,
   "id": "a01420ae",
   "metadata": {},
   "outputs": [
    {
     "name": "stdout",
     "output_type": "stream",
     "text": [
      "0.9741564967695621\n"
     ]
    }
   ],
   "source": [
    "print(accuracy_score(y_test, y_test_pred_class))"
   ]
  },
  {
   "cell_type": "code",
   "execution_count": 105,
   "id": "11ce457d",
   "metadata": {},
   "outputs": [],
   "source": [
    "# creating confusion matrix\n",
    "confusion = confusion_matrix(y_test, y_test_pred_class)"
   ]
  },
  {
   "cell_type": "code",
   "execution_count": 106,
   "id": "fb749bce",
   "metadata": {},
   "outputs": [],
   "source": [
    "TP = confusion[1,1]\n",
    "TN = confusion[0,0]\n",
    "FP = confusion[0,1]\n",
    "FN = confusion[1,0]"
   ]
  },
  {
   "cell_type": "code",
   "execution_count": 107,
   "id": "bfbab024",
   "metadata": {},
   "outputs": [
    {
     "name": "stdout",
     "output_type": "stream",
     "text": [
      "specificity 0.9991708126036484\n"
     ]
    }
   ],
   "source": [
    "specificity = TN/float(TN+FP)\n",
    "print(\"specificity\", specificity)"
   ]
  },
  {
   "cell_type": "code",
   "execution_count": 108,
   "id": "a8aed231",
   "metadata": {},
   "outputs": [
    {
     "name": "stdout",
     "output_type": "stream",
     "text": [
      "sensitivity 0.8128342245989305\n"
     ]
    }
   ],
   "source": [
    "sensitivity = TP/float(TP+FN)\n",
    "print(\"sensitivity\", sensitivity)"
   ]
  },
  {
   "cell_type": "code",
   "execution_count": 109,
   "id": "773ed061",
   "metadata": {},
   "outputs": [
    {
     "name": "stdout",
     "output_type": "stream",
     "text": [
      "precision 0.9934640522875817\n"
     ]
    }
   ],
   "source": [
    "precision = TP/float(TP+FP)\n",
    "print(\"precision\", precision)"
   ]
  },
  {
   "cell_type": "code",
   "execution_count": null,
   "id": "8120ef8a",
   "metadata": {},
   "outputs": [],
   "source": []
  }
 ],
 "metadata": {
  "kernelspec": {
   "display_name": "Python 3",
   "language": "python",
   "name": "python3"
  },
  "language_info": {
   "codemirror_mode": {
    "name": "ipython",
    "version": 3
   },
   "file_extension": ".py",
   "mimetype": "text/x-python",
   "name": "python",
   "nbconvert_exporter": "python",
   "pygments_lexer": "ipython3",
   "version": "3.8.8"
  }
 },
 "nbformat": 4,
 "nbformat_minor": 5
}
